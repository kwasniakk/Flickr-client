{
 "metadata": {
  "language_info": {
   "codemirror_mode": {
    "name": "ipython",
    "version": 3
   },
   "file_extension": ".py",
   "mimetype": "text/x-python",
   "name": "python",
   "nbconvert_exporter": "python",
   "pygments_lexer": "ipython3",
   "version": "3.8.5-final"
  },
  "orig_nbformat": 2,
  "kernelspec": {
   "name": "python3",
   "display_name": "Python 3.8.5 64-bit (conda)",
   "metadata": {
    "interpreter": {
     "hash": "de1cad00b2861a0e89a85dc84cb8ec4c9518a1770155df7efc90d1174db13f45"
    }
   }
  }
 },
 "nbformat": 4,
 "nbformat_minor": 2,
 "cells": [
  {
   "cell_type": "code",
   "execution_count": 1,
   "metadata": {},
   "outputs": [],
   "source": [
    "import pandas as pd"
   ]
  },
  {
   "source": [
    "## Loading the data and displaying first 10 rows"
   ],
   "cell_type": "markdown",
   "metadata": {}
  },
  {
   "cell_type": "code",
   "execution_count": 19,
   "metadata": {},
   "outputs": [
    {
     "output_type": "execute_result",
     "data": {
      "text/plain": [
       "        imie    nazwisko data_urodzenia\n",
       "0    Jadwiga     Bilecka     01.01.1978\n",
       "1      Rafal       Bobek     11.04.1978\n",
       "2     Robert  Bobekowski     20.07.1978\n",
       "3      Rafal  Bobikowski     28.10.1978\n",
       "4      Rafal      Brobek      5.02.1979\n",
       "5     Wiktor    Brudziak     16.05.1979\n",
       "6   Boleslaw     Brynski     24.08.1979\n",
       "7    Jadwiga   Chrilecka      2.12.1979\n",
       "8    Liliana     Ciupala     11.03.1980\n",
       "9  Katarzyna       Dawro     19.06.1980"
      ],
      "text/html": "<div>\n<style scoped>\n    .dataframe tbody tr th:only-of-type {\n        vertical-align: middle;\n    }\n\n    .dataframe tbody tr th {\n        vertical-align: top;\n    }\n\n    .dataframe thead th {\n        text-align: right;\n    }\n</style>\n<table border=\"1\" class=\"dataframe\">\n  <thead>\n    <tr style=\"text-align: right;\">\n      <th></th>\n      <th>imie</th>\n      <th>nazwisko</th>\n      <th>data_urodzenia</th>\n    </tr>\n  </thead>\n  <tbody>\n    <tr>\n      <th>0</th>\n      <td>Jadwiga</td>\n      <td>Bilecka</td>\n      <td>01.01.1978</td>\n    </tr>\n    <tr>\n      <th>1</th>\n      <td>Rafal</td>\n      <td>Bobek</td>\n      <td>11.04.1978</td>\n    </tr>\n    <tr>\n      <th>2</th>\n      <td>Robert</td>\n      <td>Bobekowski</td>\n      <td>20.07.1978</td>\n    </tr>\n    <tr>\n      <th>3</th>\n      <td>Rafal</td>\n      <td>Bobikowski</td>\n      <td>28.10.1978</td>\n    </tr>\n    <tr>\n      <th>4</th>\n      <td>Rafal</td>\n      <td>Brobek</td>\n      <td>5.02.1979</td>\n    </tr>\n    <tr>\n      <th>5</th>\n      <td>Wiktor</td>\n      <td>Brudziak</td>\n      <td>16.05.1979</td>\n    </tr>\n    <tr>\n      <th>6</th>\n      <td>Boleslaw</td>\n      <td>Brynski</td>\n      <td>24.08.1979</td>\n    </tr>\n    <tr>\n      <th>7</th>\n      <td>Jadwiga</td>\n      <td>Chrilecka</td>\n      <td>2.12.1979</td>\n    </tr>\n    <tr>\n      <th>8</th>\n      <td>Liliana</td>\n      <td>Ciupala</td>\n      <td>11.03.1980</td>\n    </tr>\n    <tr>\n      <th>9</th>\n      <td>Katarzyna</td>\n      <td>Dawro</td>\n      <td>19.06.1980</td>\n    </tr>\n  </tbody>\n</table>\n</div>"
     },
     "metadata": {},
     "execution_count": 19
    }
   ],
   "source": [
    "data = pd.read_csv(\"zadanie1.csv\")\n",
    "data.head(10)"
   ]
  },
  {
   "cell_type": "code",
   "execution_count": 20,
   "metadata": {},
   "outputs": [
    {
     "output_type": "stream",
     "name": "stdout",
     "text": [
      "<class 'pandas.core.frame.DataFrame'>\nRangeIndex: 108 entries, 0 to 107\nData columns (total 3 columns):\n #   Column          Non-Null Count  Dtype \n---  ------          --------------  ----- \n 0   imie            108 non-null    object\n 1   nazwisko        108 non-null    object\n 2   data_urodzenia  108 non-null    object\ndtypes: object(3)\nmemory usage: 2.7+ KB\n"
     ]
    }
   ],
   "source": [
    "data.info()"
   ]
  },
  {
   "source": [
    "## Convert data_urodzenia's dtype to datetime"
   ],
   "cell_type": "markdown",
   "metadata": {}
  },
  {
   "cell_type": "code",
   "execution_count": 22,
   "metadata": {},
   "outputs": [
    {
     "output_type": "stream",
     "name": "stdout",
     "text": [
      "<class 'pandas.core.frame.DataFrame'>\nRangeIndex: 108 entries, 0 to 107\nData columns (total 3 columns):\n #   Column          Non-Null Count  Dtype         \n---  ------          --------------  -----         \n 0   imie            108 non-null    object        \n 1   nazwisko        108 non-null    object        \n 2   data_urodzenia  108 non-null    datetime64[ns]\ndtypes: datetime64[ns](1), object(2)\nmemory usage: 2.7+ KB\n"
     ]
    }
   ],
   "source": [
    "data[\"data_urodzenia\"] = pd.to_datetime(data[\"data_urodzenia\"])\n",
    "data.info()"
   ]
  },
  {
   "source": [
    "## Creating a new DataFrame containing information of people born after 1999-12-31"
   ],
   "cell_type": "markdown",
   "metadata": {}
  },
  {
   "cell_type": "code",
   "execution_count": 23,
   "metadata": {},
   "outputs": [
    {
     "output_type": "stream",
     "name": "stdout",
     "text": [
      "Total number of people born after 1999-12-31: 27\n"
     ]
    }
   ],
   "source": [
    "yearCondition = (data[\"data_urodzenia\"] > \"1999-12-31\")\n",
    "bornAfter = data.loc[yearCondition]\n",
    "print(f\"Total number of people born after 1999-12-31: {bornAfter.value_counts().sum()}\")"
   ]
  },
  {
   "cell_type": "code",
   "execution_count": 24,
   "metadata": {},
   "outputs": [
    {
     "output_type": "execute_result",
     "data": {
      "text/plain": [
       "imie                          Andrzej\n",
       "nazwisko                    Polkowiak\n",
       "data_urodzenia    2000-06-03 00:00:00\n",
       "dtype: object"
      ]
     },
     "metadata": {},
     "execution_count": 24
    }
   ],
   "source": [
    "bornAfter.min()"
   ]
  },
  {
   "cell_type": "code",
   "execution_count": 25,
   "metadata": {},
   "outputs": [
    {
     "output_type": "stream",
     "name": "stdout",
     "text": [
      "Unique female names in the dataset: \n {'Jolanta', 'Barbara', 'Ewa', 'Krystyna', 'Kalina', 'Katarzyna', 'Jadwiga', 'Pelagia', 'Elwira', 'Liliana'}\n"
     ]
    }
   ],
   "source": [
    "femaleNames = set(filter(lambda x: x.endswith(\"a\"), data.imie))\n",
    "print(f\"Unique female names in the dataset: \\n {femaleNames}\")"
   ]
  }
 ]
}